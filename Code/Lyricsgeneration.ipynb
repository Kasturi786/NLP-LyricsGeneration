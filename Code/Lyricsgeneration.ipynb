{
  "nbformat": 4,
  "nbformat_minor": 0,
  "metadata": {
    "colab": {
      "name": "Untitled1.ipynb",
      "provenance": [],
      "collapsed_sections": []
    },
    "kernelspec": {
      "name": "python3",
      "display_name": "Python 3"
    }
  },
  "cells": [
    {
      "cell_type": "code",
      "metadata": {
        "id": "47I13A5b68TZ"
      },
      "source": [
        "import numpy as np\n",
        "import pandas as pd\n",
        "import string\n",
        "from collections import Counter\n",
        "import torch\n",
        "from torch import nn, optim\n",
        "from torch.utils.data import Dataset\n",
        "from torch.utils.data import DataLoader\n",
        "from torch.nn.functional import softmax"
      ],
      "execution_count": 2,
      "outputs": []
    },
    {
      "cell_type": "code",
      "metadata": {
        "id": "l9wpAJSj7hET"
      },
      "source": [
        "df = pd.read_csv(\"/home/murad/english_cleaned_lyrics.csv\", dtype=str)\n",
        "df = df[df['genre']=='Pop'][:100]\n",
        "df.drop(df.columns[df.columns.str.contains('unnamed',case = False)],axis = 1, inplace = True)"
      ],
      "execution_count": 3,
      "outputs": []
    },
    {
      "cell_type": "code",
      "metadata": {
        "colab": {
          "base_uri": "https://localhost:8080/",
          "height": 419
        },
        "id": "FvJ9VPPdI8Aw",
        "outputId": "c574de1a-c62f-4270-f3d8-75ebabcfda3c"
      },
      "source": [
        "df"
      ],
      "execution_count": 4,
      "outputs": [
        {
          "output_type": "execute_result",
          "data": {
            "text/html": [
              "<div>\n",
              "<style scoped>\n",
              "    .dataframe tbody tr th:only-of-type {\n",
              "        vertical-align: middle;\n",
              "    }\n",
              "\n",
              "    .dataframe tbody tr th {\n",
              "        vertical-align: top;\n",
              "    }\n",
              "\n",
              "    .dataframe thead th {\n",
              "        text-align: right;\n",
              "    }\n",
              "</style>\n",
              "<table border=\"1\" class=\"dataframe\">\n",
              "  <thead>\n",
              "    <tr style=\"text-align: right;\">\n",
              "      <th></th>\n",
              "      <th>index</th>\n",
              "      <th>song</th>\n",
              "      <th>year</th>\n",
              "      <th>artist</th>\n",
              "      <th>genre</th>\n",
              "      <th>lyrics</th>\n",
              "    </tr>\n",
              "  </thead>\n",
              "  <tbody>\n",
              "    <tr>\n",
              "      <th>0</th>\n",
              "      <td>0</td>\n",
              "      <td>ego-remix</td>\n",
              "      <td>2009</td>\n",
              "      <td>beyonce-knowles</td>\n",
              "      <td>Pop</td>\n",
              "      <td>Oh baby how you doing You know I'm gonna cut r...</td>\n",
              "    </tr>\n",
              "    <tr>\n",
              "      <th>1</th>\n",
              "      <td>1</td>\n",
              "      <td>then-tell-me</td>\n",
              "      <td>2009</td>\n",
              "      <td>beyonce-knowles</td>\n",
              "      <td>Pop</td>\n",
              "      <td>playin everything so easy it's like you seem s...</td>\n",
              "    </tr>\n",
              "    <tr>\n",
              "      <th>2</th>\n",
              "      <td>2</td>\n",
              "      <td>honesty</td>\n",
              "      <td>2009</td>\n",
              "      <td>beyonce-knowles</td>\n",
              "      <td>Pop</td>\n",
              "      <td>If you search For tenderness It isn't hard to ...</td>\n",
              "    </tr>\n",
              "    <tr>\n",
              "      <th>3</th>\n",
              "      <td>3</td>\n",
              "      <td>you-are-my-rock</td>\n",
              "      <td>2009</td>\n",
              "      <td>beyonce-knowles</td>\n",
              "      <td>Pop</td>\n",
              "      <td>Oh oh oh I oh oh oh I If I wrote a book about ...</td>\n",
              "    </tr>\n",
              "    <tr>\n",
              "      <th>4</th>\n",
              "      <td>4</td>\n",
              "      <td>black-culture</td>\n",
              "      <td>2009</td>\n",
              "      <td>beyonce-knowles</td>\n",
              "      <td>Pop</td>\n",
              "      <td>Party the people the people the party it's pop...</td>\n",
              "    </tr>\n",
              "    <tr>\n",
              "      <th>...</th>\n",
              "      <td>...</td>\n",
              "      <td>...</td>\n",
              "      <td>...</td>\n",
              "      <td>...</td>\n",
              "      <td>...</td>\n",
              "      <td>...</td>\n",
              "    </tr>\n",
              "    <tr>\n",
              "      <th>95</th>\n",
              "      <td>109</td>\n",
              "      <td>creole-japan-bonus-track</td>\n",
              "      <td>2006</td>\n",
              "      <td>beyonce-knowles</td>\n",
              "      <td>Pop</td>\n",
              "      <td>Baby I see you That look in your eyes Hips tha...</td>\n",
              "    </tr>\n",
              "    <tr>\n",
              "      <th>96</th>\n",
              "      <td>110</td>\n",
              "      <td>he-s-my-man</td>\n",
              "      <td>2006</td>\n",
              "      <td>beyonce-knowles</td>\n",
              "      <td>Pop</td>\n",
              "      <td>Beyonce you can do so much better You say that...</td>\n",
              "    </tr>\n",
              "    <tr>\n",
              "      <th>97</th>\n",
              "      <td>111</td>\n",
              "      <td>in-da-club-remix</td>\n",
              "      <td>2006</td>\n",
              "      <td>beyonce-knowles</td>\n",
              "      <td>Pop</td>\n",
              "      <td>No shorty it's Beyonce We gon party like it's ...</td>\n",
              "    </tr>\n",
              "    <tr>\n",
              "      <th>98</th>\n",
              "      <td>112</td>\n",
              "      <td>kitty-kat</td>\n",
              "      <td>2006</td>\n",
              "      <td>beyonce-knowles</td>\n",
              "      <td>Pop</td>\n",
              "      <td>You know I hate sleepin alone But you said tha...</td>\n",
              "    </tr>\n",
              "    <tr>\n",
              "      <th>99</th>\n",
              "      <td>113</td>\n",
              "      <td>get-me-bodied-extended-remix-bonus-track</td>\n",
              "      <td>2006</td>\n",
              "      <td>beyonce-knowles</td>\n",
              "      <td>Pop</td>\n",
              "      <td>Nine four eight one B'day Mission one Ima put ...</td>\n",
              "    </tr>\n",
              "  </tbody>\n",
              "</table>\n",
              "<p>100 rows × 6 columns</p>\n",
              "</div>"
            ],
            "text/plain": [
              "   index  ...                                             lyrics\n",
              "0      0  ...  Oh baby how you doing You know I'm gonna cut r...\n",
              "1      1  ...  playin everything so easy it's like you seem s...\n",
              "2      2  ...  If you search For tenderness It isn't hard to ...\n",
              "3      3  ...  Oh oh oh I oh oh oh I If I wrote a book about ...\n",
              "4      4  ...  Party the people the people the party it's pop...\n",
              "..   ...  ...                                                ...\n",
              "95   109  ...  Baby I see you That look in your eyes Hips tha...\n",
              "96   110  ...  Beyonce you can do so much better You say that...\n",
              "97   111  ...  No shorty it's Beyonce We gon party like it's ...\n",
              "98   112  ...  You know I hate sleepin alone But you said tha...\n",
              "99   113  ...  Nine four eight one B'day Mission one Ima put ...\n",
              "\n",
              "[100 rows x 6 columns]"
            ]
          },
          "metadata": {
            "tags": []
          },
          "execution_count": 4
        }
      ]
    },
    {
      "cell_type": "code",
      "metadata": {
        "id": "7VxO9nR0YIdl"
      },
      "source": [
        "class LyricsDataset(Dataset):\n",
        "    def __init__(self, batch_size):\n",
        "\n",
        "        self.words = self.load_words()\n",
        "        self.unique_words = self.get_unique_words()\n",
        "\n",
        "        self.idx_to_word = {idx: word for idx, word in enumerate(self.unique_words)}\n",
        "        self.word_to_idx = {word: idx for idx, word in enumerate(self.unique_words)}\n",
        "\n",
        "        self.words_idxes = [self.word_to_idx[w] for w in self.words]\n",
        "\n",
        "        self.batch_size = batch_size\n",
        "\n",
        "    def load_words(self):\n",
        "        train_df = pd.read_csv(\"/home/murad/english_cleaned_lyrics.csv\", dtype=str)\n",
        "        train_df = train_df[train_df['genre']=='Pop'][:100]\n",
        "        #text = train_df['lyrics'].str.replace('[{}]'.format(string.punctuation), ' ').str.cat(sep=' ').lower().replace('  ',' ')\n",
        "        text = train_df['lyrics'].str.cat(sep=' ').lower().replace('  ',' ')\n",
        "        return text.split(' ')\n",
        "\n",
        "    def get_unique_words(self):\n",
        "        word_counts = Counter(self.words)\n",
        "        return sorted(word_counts, key=word_counts.get, reverse=True)\n",
        "\n",
        "    def __len__(self):\n",
        "        return len(self.words_idxes)-self.batch_size  \n",
        "\n",
        "    def __getitem__(self, idx):\n",
        "        return (\n",
        "            torch.tensor(self.words_idxes[idx:idx+self.batch_size]),\n",
        "            torch.tensor(self.words_idxes[idx+1:idx+self.batch_size+1]),\n",
        "        )"
      ],
      "execution_count": 11,
      "outputs": []
    },
    {
      "cell_type": "code",
      "metadata": {
        "id": "_Psnc0EeBJV6"
      },
      "source": [
        "class LSTMModel(nn.Module):\n",
        "    def __init__(self, dataset):\n",
        "        super(LSTMModel, self).__init__()\n",
        "        self.hidden_size = 128\n",
        "        self.embedding_dim = 128\n",
        "        self.num_layers = 3\n",
        "        self.output_size = len(dataset.unique_words) # vocab_size\n",
        "\n",
        "        self.encoder = nn.Embedding(\n",
        "            num_embeddings=self.output_size, \n",
        "            embedding_dim=self.embedding_dim,\n",
        "        )\n",
        "        self.lstm = nn.LSTM(\n",
        "            input_size=self.embedding_dim,\n",
        "            hidden_size=self.hidden_size,\n",
        "            num_layers=self.num_layers,\n",
        "            dropout=0.2,\n",
        "        )\n",
        "        self.decoder= nn.Linear(self.hidden_size, self.output_size) #(hidden_size, output_size)\n",
        "\n",
        "    def forward(self, input, prev_state):\n",
        "        embed = self.encoder(input)\n",
        "        lstm_out, state = self.lstm(embed, prev_state)\n",
        "        out = self.decoder(lstm_out)\n",
        "\n",
        "        return out, state\n",
        "\n",
        "    def init_state(self, batch_size):\n",
        "        return (torch.zeros(self.num_layers, batch_size, self.hidden_size), # (layers, batch_size, hidden_size)\n",
        "                torch.zeros(self.num_layers, batch_size, self.hidden_size))"
      ],
      "execution_count": 13,
      "outputs": []
    },
    {
      "cell_type": "code",
      "metadata": {
        "id": "5O0JfgfBq4jg"
      },
      "source": [
        "def save_metrices(save_path, train_loss, train_accuracy, steps):\n",
        "   state_dict = { 'loss' : train_loss,\n",
        "                 'accuracy' : train_accuracy,\n",
        "                 'epoch' : steps}\n",
        "\n",
        "   torch.save(state_dict, save_path)\n",
        "   print(f'Model saved to ==> {save_path}')\n",
        "\n",
        "def load_metrices(load_path):\n",
        "   state_dict = torch.load(load_path)\n",
        "   print(f'Model loaded from ==> {load_path}')\n",
        "   return state_dict['loss'], state_dict['accuracy'], state_dict['epoch']\n"
      ],
      "execution_count": 14,
      "outputs": []
    },
    {
      "cell_type": "code",
      "metadata": {
        "id": "tlrTJNKvXg3-"
      },
      "source": [
        "def train(dataset, model, batch_size):\n",
        "    model.train()  #the model knows it has to learn the layers\n",
        "\n",
        "    dataloader = DataLoader(\n",
        "        dataset,\n",
        "        batch_size=128,\n",
        "    )\n",
        "\n",
        "    criterion = nn.CrossEntropyLoss()\n",
        "    optimizer = optim.Adam(model.parameters(), lr=0.001)\n",
        "    \n",
        "    loss_list = []\n",
        "    accuracy_list =[]\n",
        "    epoch_list = []\n",
        "\n",
        "    for epoch in range(150):\n",
        "        hidden_state, cell_state = model.init_state(batch_size)\n",
        "        \n",
        "        step =0\n",
        "        loss_sum=0.0\n",
        "        accuracy_sum=0.0\n",
        "        \n",
        "        for batch, (inp, lab) in enumerate(dataloader):\n",
        "            optimizer.zero_grad()\n",
        "            correct_train=0\n",
        "            total_train=0\n",
        "            out_pred, (hidden_state, cell_state) = model(inp, (hidden_state, cell_state))\n",
        "            \n",
        "            loss = criterion(out_pred.transpose(1, 2), lab) \n",
        "\n",
        "            hidden_state = hidden_state.detach()  # detach to stop back propagating\n",
        "            cell_state = cell_state.detach()\n",
        "\n",
        "            loss.backward()\n",
        "            optimizer.step()\n",
        "           \n",
        "            _, predicted = torch.max(out_pred.transpose(1, 2), 1) \n",
        "            total_train += lab.nelement()\n",
        "            correct_train += predicted.eq(lab).float().sum().item()\n",
        "            accuracy = correct_train / total_train\n",
        "            \n",
        "            step+=1\n",
        "            loss_sum+= loss.item()\n",
        "            accuracy_sum+=accuracy\n",
        "\n",
        "\n",
        "        avg_loss = loss_sum/step\n",
        "        avg_accuracy = accuracy_sum/step \n",
        "        loss_list.append(avg_loss)\n",
        "        accuracy_list.append(avg_accuracy)\n",
        "        epoch_list.append(epoch+1)\n",
        "        print({ 'epoch': epoch+1, 'loss': avg_loss , 'accuracy': avg_accuracy })\n",
        "    \n",
        "    save_metrices('/home/murad/metrics.pt', loss_list, accuracy_list, epoch_list)    "
      ],
      "execution_count": 15,
      "outputs": []
    },
    {
      "cell_type": "code",
      "metadata": {
        "id": "fPG6cClNDm7Q"
      },
      "source": [
        "def predict(dataset, model, text, next_words=100):\n",
        "    words = text.split(' ')\n",
        "    model.eval()   #the model is used for testing\n",
        "\n",
        "\n",
        "    hidden_state, cell_state = model.init_state(len(words))\n",
        "\n",
        "    for i in range(0, next_words):\n",
        "        inp = torch.tensor([[dataset.word_to_idx[w] for w in words[i:]]])\n",
        "        out_pred, (hidden_state, cell_state) = model(inp, (hidden_state, cell_state))\n",
        "\n",
        "        last_word_outs = out_pred[0][-1]\n",
        "        p = softmax(last_word_outs, dim=0).detach().numpy()\n",
        "        word_idx = np.random.choice(len(last_word_outs), p=p)\n",
        "        words.append(dataset.idx_to_word[word_idx])\n",
        "\n",
        "    return words"
      ],
      "execution_count": 16,
      "outputs": []
    },
    {
      "cell_type": "code",
      "metadata": {
        "colab": {
          "base_uri": "https://localhost:8080/"
        },
        "id": "lBtSht2RY3hs",
        "outputId": "34825dbd-1aa4-49e5-8ac4-ab2915677e23"
      },
      "source": [
        "batch_size = 4  #length of the sequence of words chosen for training. \n",
        "dataset = LyricsDataset(batch_size)\n",
        "model = LSTMModel(dataset)\n",
        "\n",
        "train(dataset, model, batch_size)"
      ],
      "execution_count": 17,
      "outputs": [
        {
          "output_type": "stream",
          "text": [
            "{'epoch': 1, 'loss': 6.371757369713495, 'accuracy': 0.04755007340604027}\n",
            "{'epoch': 2, 'loss': 6.030858404684387, 'accuracy': 0.052636063338926176}\n",
            "{'epoch': 3, 'loss': 5.887264155701503, 'accuracy': 0.05243288590604027}\n",
            "{'epoch': 4, 'loss': 5.721387880760552, 'accuracy': 0.05486446098993288}\n",
            "{'epoch': 5, 'loss': 5.535872685829265, 'accuracy': 0.05954409605704698}\n",
            "{'epoch': 6, 'loss': 5.3494585416461, 'accuracy': 0.06575739303691275}\n",
            "{'epoch': 7, 'loss': 5.167357889597848, 'accuracy': 0.07374685402684564}\n",
            "{'epoch': 8, 'loss': 5.014340057469054, 'accuracy': 0.08074664429530201}\n",
            "{'epoch': 9, 'loss': 4.849060463425297, 'accuracy': 0.09186241610738255}\n",
            "{'epoch': 10, 'loss': 4.708217567245432, 'accuracy': 0.1059209836409396}\n",
            "{'epoch': 11, 'loss': 4.563145531103915, 'accuracy': 0.12041212248322147}\n",
            "{'epoch': 12, 'loss': 4.417766363028712, 'accuracy': 0.138671875}\n",
            "{'epoch': 13, 'loss': 4.281385301743578, 'accuracy': 0.15914036283557048}\n",
            "{'epoch': 14, 'loss': 4.148006527215842, 'accuracy': 0.1824009018456376}\n",
            "{'epoch': 15, 'loss': 4.001897322651524, 'accuracy': 0.20168964974832215}\n",
            "{'epoch': 16, 'loss': 3.860950615182019, 'accuracy': 0.22679189387583892}\n",
            "{'epoch': 17, 'loss': 3.719412150398997, 'accuracy': 0.24575293624161074}\n",
            "{'epoch': 18, 'loss': 3.598686084651307, 'accuracy': 0.2685219169463087}\n",
            "{'epoch': 19, 'loss': 3.454591714695796, 'accuracy': 0.29153339974832215}\n",
            "{'epoch': 20, 'loss': 3.3185068004883376, 'accuracy': 0.3153182676174497}\n",
            "{'epoch': 21, 'loss': 3.186300820952294, 'accuracy': 0.33463323196308725}\n",
            "{'epoch': 22, 'loss': 3.058064915989869, 'accuracy': 0.35752674077181207}\n",
            "{'epoch': 23, 'loss': 2.954923467748117, 'accuracy': 0.3762714974832215}\n",
            "{'epoch': 24, 'loss': 2.8489750859721394, 'accuracy': 0.392912384647651}\n",
            "{'epoch': 25, 'loss': 2.7337531055380033, 'accuracy': 0.4148686556208054}\n",
            "{'epoch': 26, 'loss': 2.6241619570943335, 'accuracy': 0.43679215604026844}\n",
            "{'epoch': 27, 'loss': 2.534853579213955, 'accuracy': 0.4523909395973154}\n",
            "{'epoch': 28, 'loss': 2.4441336287348063, 'accuracy': 0.4695627097315436}\n",
            "{'epoch': 29, 'loss': 2.35498461407303, 'accuracy': 0.4871539429530201}\n",
            "{'epoch': 30, 'loss': 2.2627193624741277, 'accuracy': 0.5047386220637584}\n",
            "{'epoch': 31, 'loss': 2.1734467061774043, 'accuracy': 0.5231425650167785}\n",
            "{'epoch': 32, 'loss': 2.097742409314085, 'accuracy': 0.5377713401845637}\n",
            "{'epoch': 33, 'loss': 2.0315110033390504, 'accuracy': 0.5523935612416108}\n",
            "{'epoch': 34, 'loss': 1.9417053661090415, 'accuracy': 0.5695981019295302}\n",
            "{'epoch': 35, 'loss': 1.8680008517815763, 'accuracy': 0.5852427642617449}\n",
            "{'epoch': 36, 'loss': 1.7883210793737596, 'accuracy': 0.6017984479865772}\n",
            "{'epoch': 37, 'loss': 1.7363942611537524, 'accuracy': 0.6119507655201343}\n",
            "{'epoch': 38, 'loss': 1.6913828853792792, 'accuracy': 0.6213428062080537}\n",
            "{'epoch': 39, 'loss': 1.6246077465831033, 'accuracy': 0.6356111052852349}\n",
            "{'epoch': 40, 'loss': 1.5569408504454882, 'accuracy': 0.6500235947986577}\n",
            "{'epoch': 41, 'loss': 1.5113861510317597, 'accuracy': 0.6591075922818792}\n",
            "{'epoch': 42, 'loss': 1.4556260959013996, 'accuracy': 0.6694630872483222}\n",
            "{'epoch': 43, 'loss': 1.402365622804469, 'accuracy': 0.6805133179530202}\n",
            "{'epoch': 44, 'loss': 1.357631922018208, 'accuracy': 0.6905411073825504}\n",
            "{'epoch': 45, 'loss': 1.3302636222051294, 'accuracy': 0.6959875734060402}\n",
            "{'epoch': 46, 'loss': 1.2765938964166097, 'accuracy': 0.706801856124161}\n",
            "{'epoch': 47, 'loss': 1.2272319264159908, 'accuracy': 0.7166920092281879}\n",
            "{'epoch': 48, 'loss': 1.1851069205159308, 'accuracy': 0.7256842491610739}\n",
            "{'epoch': 49, 'loss': 1.1537462374908012, 'accuracy': 0.7334312080536913}\n",
            "{'epoch': 50, 'loss': 1.1134758553398936, 'accuracy': 0.7411650587248322}\n",
            "{'epoch': 51, 'loss': 1.0816803416549758, 'accuracy': 0.7470113255033557}\n",
            "{'epoch': 52, 'loss': 1.0544662478086133, 'accuracy': 0.7522283976510067}\n",
            "{'epoch': 53, 'loss': 1.0202033449239378, 'accuracy': 0.7602571833053692}\n",
            "{'epoch': 54, 'loss': 0.992436879683261, 'accuracy': 0.7658150692114094}\n",
            "{'epoch': 55, 'loss': 0.9581298357588333, 'accuracy': 0.7738831795302014}\n",
            "{'epoch': 56, 'loss': 0.9269161147359234, 'accuracy': 0.7793493078859061}\n",
            "{'epoch': 57, 'loss': 0.910881489790326, 'accuracy': 0.7809616191275168}\n",
            "{'epoch': 58, 'loss': 0.8723423363478392, 'accuracy': 0.7907403523489933}\n",
            "{'epoch': 59, 'loss': 0.8491861486694957, 'accuracy': 0.7963834416946308}\n",
            "{'epoch': 60, 'loss': 0.8246507914924381, 'accuracy': 0.8003159081375839}\n",
            "{'epoch': 61, 'loss': 0.793330798613145, 'accuracy': 0.8077417156040269}\n",
            "{'epoch': 62, 'loss': 0.7761451188449892, 'accuracy': 0.8112285025167785}\n",
            "{'epoch': 63, 'loss': 0.7565612963482038, 'accuracy': 0.8148267093120806}\n",
            "{'epoch': 64, 'loss': 0.7400734400589194, 'accuracy': 0.8185756606543624}\n",
            "{'epoch': 65, 'loss': 0.7315120180231213, 'accuracy': 0.8204173657718121}\n",
            "{'epoch': 66, 'loss': 0.7020883804699719, 'accuracy': 0.8269714765100671}\n",
            "{'epoch': 67, 'loss': 0.6768685651555557, 'accuracy': 0.832005033557047}\n",
            "{'epoch': 68, 'loss': 0.6646451030751602, 'accuracy': 0.8354656040268457}\n",
            "{'epoch': 69, 'loss': 0.644033201238853, 'accuracy': 0.8401845637583892}\n",
            "{'epoch': 70, 'loss': 0.623222717602781, 'accuracy': 0.8444250734060402}\n",
            "{'epoch': 71, 'loss': 0.6020079522124873, 'accuracy': 0.8496618078859061}\n",
            "{'epoch': 72, 'loss': 0.5944581138307616, 'accuracy': 0.8517591233221476}\n",
            "{'epoch': 73, 'loss': 0.5840780497247341, 'accuracy': 0.8531748112416108}\n",
            "{'epoch': 74, 'loss': 0.5746256113802427, 'accuracy': 0.8550951656879194}\n",
            "{'epoch': 75, 'loss': 0.5501646142227937, 'accuracy': 0.8613740037751678}\n",
            "{'epoch': 76, 'loss': 0.5371600159462666, 'accuracy': 0.8635434144295302}\n",
            "{'epoch': 77, 'loss': 0.5246016238659821, 'accuracy': 0.8668991191275168}\n",
            "{'epoch': 78, 'loss': 0.5241224062472782, 'accuracy': 0.8665714135906041}\n",
            "{'epoch': 79, 'loss': 0.5042978698925283, 'accuracy': 0.87068084102349}\n",
            "{'epoch': 80, 'loss': 0.4944849400812347, 'accuracy': 0.8730927537751678}\n",
            "{'epoch': 81, 'loss': 0.4757097077199677, 'accuracy': 0.8785457739093959}\n",
            "{'epoch': 82, 'loss': 0.4660678685036482, 'accuracy': 0.8803153838087249}\n",
            "{'epoch': 83, 'loss': 0.44732108782201807, 'accuracy': 0.8849688024328859}\n",
            "{'epoch': 84, 'loss': 0.43927181309601604, 'accuracy': 0.8874986891778524}\n",
            "{'epoch': 85, 'loss': 0.43199078663683577, 'accuracy': 0.8880426803691275}\n",
            "{'epoch': 86, 'loss': 0.4255285416573486, 'accuracy': 0.889058567533557}\n",
            "{'epoch': 87, 'loss': 0.4143365586314025, 'accuracy': 0.891830956375839}\n",
            "{'epoch': 88, 'loss': 0.4068848582472177, 'accuracy': 0.8934170511744967}\n",
            "{'epoch': 89, 'loss': 0.3962286635733291, 'accuracy': 0.8969759333053692}\n",
            "{'epoch': 90, 'loss': 0.39241625436100386, 'accuracy': 0.8968317428691275}\n",
            "{'epoch': 91, 'loss': 0.3816965758525485, 'accuracy': 0.8998138632550335}\n",
            "{'epoch': 92, 'loss': 0.3758100424236899, 'accuracy': 0.9009346161912751}\n",
            "{'epoch': 93, 'loss': 0.3733820834840904, 'accuracy': 0.9011771182885906}\n",
            "{'epoch': 94, 'loss': 0.3627081393895533, 'accuracy': 0.9045983640939598}\n",
            "{'epoch': 95, 'loss': 0.34984719600753494, 'accuracy': 0.908537384647651}\n",
            "{'epoch': 96, 'loss': 0.34117735387294884, 'accuracy': 0.9098154362416108}\n",
            "{'epoch': 97, 'loss': 0.3382492846865582, 'accuracy': 0.9102283452181208}\n",
            "{'epoch': 98, 'loss': 0.3376553236888159, 'accuracy': 0.910490509647651}\n",
            "{'epoch': 99, 'loss': 0.33350191959148684, 'accuracy': 0.9114474098154363}\n",
            "{'epoch': 100, 'loss': 0.3210421451586205, 'accuracy': 0.9150259542785235}\n",
            "{'epoch': 101, 'loss': 0.3056413217903984, 'accuracy': 0.9190436241610739}\n",
            "{'epoch': 102, 'loss': 0.30149987554990204, 'accuracy': 0.9196203859060402}\n",
            "{'epoch': 103, 'loss': 0.2927526296835218, 'accuracy': 0.9225238569630873}\n",
            "{'epoch': 104, 'loss': 0.2958274759077186, 'accuracy': 0.9209639786073825}\n",
            "{'epoch': 105, 'loss': 0.29478319073033415, 'accuracy': 0.9210753984899329}\n",
            "{'epoch': 106, 'loss': 0.28856640941644673, 'accuracy': 0.9221568267617449}\n",
            "{'epoch': 107, 'loss': 0.2843840598134986, 'accuracy': 0.9236642722315436}\n",
            "{'epoch': 108, 'loss': 0.28013309162585126, 'accuracy': 0.9244507655201343}\n",
            "{'epoch': 109, 'loss': 0.26894024763281316, 'accuracy': 0.9277671455536913}\n",
            "{'epoch': 110, 'loss': 0.2689228190496664, 'accuracy': 0.9264694316275168}\n",
            "{'epoch': 111, 'loss': 0.2726786366020073, 'accuracy': 0.9260303062080537}\n",
            "{'epoch': 112, 'loss': 0.2711899671578567, 'accuracy': 0.9257746958892618}\n",
            "{'epoch': 113, 'loss': 0.2609577527732257, 'accuracy': 0.9290255348154363}\n",
            "{'epoch': 114, 'loss': 0.25260960358201257, 'accuracy': 0.9312932571308725}\n",
            "{'epoch': 115, 'loss': 0.24234019439892482, 'accuracy': 0.9344130138422819}\n",
            "{'epoch': 116, 'loss': 0.23804842781950564, 'accuracy': 0.9350749790268457}\n",
            "{'epoch': 117, 'loss': 0.2408286603730197, 'accuracy': 0.9351667365771812}\n",
            "{'epoch': 118, 'loss': 0.24288475559711856, 'accuracy': 0.9338034815436241}\n",
            "{'epoch': 119, 'loss': 0.23777081788636295, 'accuracy': 0.9348849098154363}\n",
            "{'epoch': 120, 'loss': 0.2339684515941463, 'accuracy': 0.9361629614093959}\n",
            "{'epoch': 121, 'loss': 0.2293499016621769, 'accuracy': 0.9377359479865772}\n",
            "{'epoch': 122, 'loss': 0.22423547561336685, 'accuracy': 0.9385289953859061}\n",
            "{'epoch': 123, 'loss': 0.21837419048951776, 'accuracy': 0.9407770553691275}\n",
            "{'epoch': 124, 'loss': 0.21852138421604497, 'accuracy': 0.9405345532718121}\n",
            "{'epoch': 125, 'loss': 0.2149122698020015, 'accuracy': 0.9407180683724832}\n",
            "{'epoch': 126, 'loss': 0.21204188879854327, 'accuracy': 0.9415832109899329}\n",
            "{'epoch': 127, 'loss': 0.21251069900623504, 'accuracy': 0.9408753670302014}\n",
            "{'epoch': 128, 'loss': 0.20909025268816708, 'accuracy': 0.9420682151845637}\n",
            "{'epoch': 129, 'loss': 0.2142512283269191, 'accuracy': 0.940659081375839}\n",
            "{'epoch': 130, 'loss': 0.2103776372281597, 'accuracy': 0.9414128041107382}\n",
            "{'epoch': 131, 'loss': 0.19846727462147906, 'accuracy': 0.9448930369127517}\n",
            "{'epoch': 132, 'loss': 0.1961513942782611, 'accuracy': 0.9451683095637584}\n",
            "{'epoch': 133, 'loss': 0.19139635184117212, 'accuracy': 0.9468002831375839}\n",
            "{'epoch': 134, 'loss': 0.19136389131163992, 'accuracy': 0.9457975041946308}\n",
            "{'epoch': 135, 'loss': 0.19006289232947282, 'accuracy': 0.9469837982382551}\n",
            "{'epoch': 136, 'loss': 0.19078530836850405, 'accuracy': 0.94670197147651}\n",
            "{'epoch': 137, 'loss': 0.1906758760908406, 'accuracy': 0.9473770448825504}\n",
            "{'epoch': 138, 'loss': 0.18975776413943143, 'accuracy': 0.9465315645973155}\n",
            "{'epoch': 139, 'loss': 0.18785945443599017, 'accuracy': 0.9476457634228188}\n",
            "{'epoch': 140, 'loss': 0.18081568555918917, 'accuracy': 0.9495661178691275}\n",
            "{'epoch': 141, 'loss': 0.1767754492587441, 'accuracy': 0.9508179530201343}\n",
            "{'epoch': 142, 'loss': 0.1772573012108571, 'accuracy': 0.9504378145973155}\n",
            "{'epoch': 143, 'loss': 0.17796824195565994, 'accuracy': 0.9504181522651006}\n",
            "{'epoch': 144, 'loss': 0.17700920435256207, 'accuracy': 0.9497299706375839}\n",
            "{'epoch': 145, 'loss': 0.17559238834519114, 'accuracy': 0.9508048447986577}\n",
            "{'epoch': 146, 'loss': 0.17001709842666884, 'accuracy': 0.9517945155201343}\n",
            "{'epoch': 147, 'loss': 0.1679988089861386, 'accuracy': 0.9526334416946308}\n",
            "{'epoch': 148, 'loss': 0.1607607236919587, 'accuracy': 0.9551698825503355}\n",
            "{'epoch': 149, 'loss': 0.16078516638418971, 'accuracy': 0.9544292680369127}\n",
            "{'epoch': 150, 'loss': 0.16315950230764062, 'accuracy': 0.9537607487416108}\n",
            "Model saved to ==> /home/murad/metrics.pt\n"
          ],
          "name": "stdout"
        }
      ]
    },
    {
      "cell_type": "code",
      "metadata": {
        "id": "axoE8oqT22vl"
      },
      "source": [
        "import matplotlib.pyplot as plt\n",
        "def plot_graph(epochs, data_list, ylabel):\n",
        "  plt.plot(epochs, data_list, label ='Train')\n",
        "  plt.xlabel('Epochs')\n",
        "  plt.ylabel(ylabel)\n",
        "  plt.legend()\n",
        "  plt.show()"
      ],
      "execution_count": 18,
      "outputs": []
    },
    {
      "cell_type": "code",
      "metadata": {
        "colab": {
          "base_uri": "https://localhost:8080/",
          "height": 562
        },
        "id": "yeCEfYRk1P6v",
        "outputId": "73906f2e-dfcd-43e6-968b-a62847ec93d7"
      },
      "source": [
        "loss_list,accuracy_list, epochs = load_metrices('/home/murad/metrics.pt')\n",
        "\n",
        "plot_graph(epochs, loss_list, 'Loss')\n",
        "plot_graph(epochs, accuracy_list, 'Accuracy')"
      ],
      "execution_count": 19,
      "outputs": [
        {
          "output_type": "stream",
          "text": [
            "Model loaded from ==> /home/murad/metrics.pt\n"
          ],
          "name": "stdout"
        },
        {
          "output_type": "display_data",
          "data": {
            "image/png": "[encoded data removed]",
            "text/plain": [
              "<Figure size 432x288 with 1 Axes>"
            ]
          },
          "metadata": {
            "tags": [],
            "needs_background": "light"
          }
        },
        {
          "output_type": "display_data",
          "data": {
            "image/png": "[encoded data removed]",
            "text/plain": [
              "<Figure size 432x288 with 1 Axes>"
            ]
          },
          "metadata": {
            "tags": [],
            "needs_background": "light"
          }
        }
      ]
    },
    {
      "cell_type": "code",
      "metadata": {
        "colab": {
          "base_uri": "https://localhost:8080/"
        },
        "id": "ClL1pMmD-2Ts",
        "outputId": "d6f89896-8c66-4c0d-f7b7-125ae0d050bb"
      },
      "source": [
        "\n",
        "print(' '.join(predict(dataset, model, text='i\\'m here for you')))"
      ],
      "execution_count": 24,
      "outputs": [
        {
          "output_type": "stream",
          "text": [
            "i'm here for you doing you know i'm gonna cut right to the chase some women were made but me myself i like to think that i was created for a special purpose you know what's more special than you you feel me it's on baby let's get lost you don't need to call into work cause you're the boss for real want you to show me how you feel i consider myself lucky that's a big deal why well you got the key to my heart but you ain't gonna need it i'd rather you open up my body and show me secrets\n"
          ],
          "name": "stdout"
        }
      ]
    }
  ]
}